{
 "cells": [
  {
   "cell_type": "markdown",
   "metadata": {},
   "source": [
    "### The following code represents a CNN model using Keras to recognize digits,this model reaches an accuracy level of 98.957% on the test set, 100% on the dev set and fits the training set with 100% accuracy. "
   ]
  },
  {
   "cell_type": "code",
   "execution_count": 144,
   "metadata": {},
   "outputs": [],
   "source": [
    "#Importing necessary libraries\n",
    "import numpy as np\n",
    "import pandas as pd\n",
    "from keras import layers\n",
    "from keras.layers import Input, Add, Dense, Activation, ZeroPadding2D, Flatten,Conv2D,MaxPooling2D, GlobalMaxPooling2D\n",
    "from keras.models import Model,Sequential\n",
    "from keras.utils.np_utils import to_categorical\n",
    "from sklearn.model_selection import train_test_split\n",
    "import matplotlib.pyplot as plt"
   ]
  },
  {
   "cell_type": "code",
   "execution_count": 131,
   "metadata": {},
   "outputs": [],
   "source": [
    "#Rading input data\n",
    "train=pd.read_csv(\"train.csv\")\n",
    "test=pd.read_csv(\"test.csv\")"
   ]
  },
  {
   "cell_type": "code",
   "execution_count": 132,
   "metadata": {},
   "outputs": [],
   "source": [
    "#Separating out the labels and the images\n",
    "X_train=train.iloc[:,1:]\n",
    "y_train=train.iloc[:,:1]\n",
    "X_test=test"
   ]
  },
  {
   "cell_type": "code",
   "execution_count": 133,
   "metadata": {
    "scrolled": true
   },
   "outputs": [],
   "source": [
    "#We normalize the data\n",
    "X_train=X_train/255.0\n",
    "X_test=X_test/255.0"
   ]
  },
  {
   "cell_type": "code",
   "execution_count": 134,
   "metadata": {},
   "outputs": [],
   "source": [
    "#Plotting of any image of desired index\n",
    "def plotim(a):\n",
    "    im=np.array(X_train.iloc[int(a)]).reshape((28,28))\n",
    "    plt.imshow(im)"
   ]
  },
  {
   "cell_type": "code",
   "execution_count": 135,
   "metadata": {},
   "outputs": [
    {
     "data": {
      "image/png": "[encoded data removed]",
      "text/plain": [
       "<Figure size 432x288 with 1 Axes>"
      ]
     },
     "metadata": {},
     "output_type": "display_data"
    }
   ],
   "source": [
    "plotim(10)"
   ]
  },
  {
   "cell_type": "code",
   "execution_count": 136,
   "metadata": {
    "scrolled": true
   },
   "outputs": [],
   "source": [
    "#Reshape the input to get the form (m,nh,nw,nc)\n",
    "X_train=X_train.values.reshape(-1,28,28,1)\n",
    "X_test=X_test.values.reshape(-1,28,28,1)"
   ]
  },
  {
   "cell_type": "code",
   "execution_count": 137,
   "metadata": {},
   "outputs": [
    {
     "data": {
      "text/plain": [
       "(42000, 28, 28, 1)"
      ]
     },
     "execution_count": 137,
     "metadata": {},
     "output_type": "execute_result"
    }
   ],
   "source": [
    "X_train.shape"
   ]
  },
  {
   "cell_type": "code",
   "execution_count": 138,
   "metadata": {
    "scrolled": true
   },
   "outputs": [],
   "source": [
    "y_train=to_categorical(y_train,num_classes=len(y_train['label'].unique()))"
   ]
  },
  {
   "cell_type": "code",
   "execution_count": 139,
   "metadata": {},
   "outputs": [
    {
     "data": {
      "text/plain": [
       "(42000, 10)"
      ]
     },
     "execution_count": 139,
     "metadata": {},
     "output_type": "execute_result"
    }
   ],
   "source": [
    "y_train.shape"
   ]
  },
  {
   "cell_type": "code",
   "execution_count": 140,
   "metadata": {},
   "outputs": [],
   "source": [
    "seed=0\n",
    "xtrain,xdev,ytrain,ydev=train_test_split(X_train,y_train,test_size=0.2,random_state=seed)"
   ]
  },
  {
   "cell_type": "code",
   "execution_count": 143,
   "metadata": {},
   "outputs": [
    {
     "data": {
      "text/plain": [
       "(33600, 28, 28, 1)"
      ]
     },
     "execution_count": 143,
     "metadata": {},
     "output_type": "execute_result"
    }
   ],
   "source": [
    "xtrain.shape"
   ]
  },
  {
   "cell_type": "code",
   "execution_count": 275,
   "metadata": {},
   "outputs": [],
   "source": [
    "def cnn_model(shape,filters):\n",
    "    #Number of filters\n",
    "    F1,F2,F3=filters\n",
    "    \n",
    "    model=Sequential()\n",
    "    model.add(Conv2D(F1,kernel_size=(3,3),strides=(1,1),padding='same',kernel_initializer='glorot_uniform',input_shape=shape))\n",
    "    model.add(Activation('relu'))\n",
    "    model.add(MaxPooling2D(pool_size=(2,2),strides=(2,2)))\n",
    "    \n",
    "    model.add(Conv2D(F2,kernel_size=(3,3),strides=(1,1),padding='same',kernel_initializer='glorot_uniform'))\n",
    "    model.add(Activation('relu'))\n",
    "    model.add(MaxPooling2D(pool_size=(2,2),strides=(2,2))) \n",
    "    \n",
    "    model.add(Conv2D(F3,kernel_size=(1,1),strides=(1,1),padding='valid',kernel_initializer='glorot_uniform'))\n",
    "    model.add(Activation('relu'))\n",
    "    model.add(MaxPooling2D(pool_size=(1,1),strides=(1,1))) \n",
    "\n",
    "    model.add(Flatten())\n",
    "    model.add(Dense(1200,input_shape=(540,),activation='relu'))\n",
    "    model.add(Dense(300,input_shape=(1200,),activation='relu'))\n",
    "    model.add(Dense(10,input_shape=(300,),activation='softmax'))\n",
    "    \n",
    "    return model"
   ]
  },
  {
   "cell_type": "code",
   "execution_count": 276,
   "metadata": {},
   "outputs": [],
   "source": [
    "cnn=cnn_model(X_train.shape[1:],[5,10,15])"
   ]
  },
  {
   "cell_type": "code",
   "execution_count": 277,
   "metadata": {},
   "outputs": [],
   "source": [
    "cnn.compile(optimizer='Adam',loss='binary_crossentropy',metrics=['accuracy'])"
   ]
  },
  {
   "cell_type": "code",
   "execution_count": 278,
   "metadata": {
    "scrolled": true
   },
   "outputs": [
    {
     "name": "stdout",
     "output_type": "stream",
     "text": [
      "Epoch 1/70\n",
      "42000/42000 [==============================] - 10s 228us/step - loss: 0.0394 - acc: 0.9864\n",
      "Epoch 2/70\n",
      "42000/42000 [==============================] - 8s 195us/step - loss: 0.0132 - acc: 0.9955\n",
      "Epoch 3/70\n",
      "42000/42000 [==============================] - 8s 194us/step - loss: 0.0087 - acc: 0.9970\n",
      "Epoch 4/70\n",
      "42000/42000 [==============================] - 8s 194us/step - loss: 0.0066 - acc: 0.9977\n",
      "Epoch 5/70\n",
      "42000/42000 [==============================] - 8s 193us/step - loss: 0.0052 - acc: 0.9982\n",
      "Epoch 6/70\n",
      "42000/42000 [==============================] - 8s 193us/step - loss: 0.0045 - acc: 0.9984\n",
      "Epoch 7/70\n",
      "42000/42000 [==============================] - 8s 193us/step - loss: 0.0035 - acc: 0.9989 3s - loss\n",
      "Epoch 8/70\n",
      "42000/42000 [==============================] - 8s 196us/step - loss: 0.0027 - acc: 0.9991 1s - loss: 0.\n",
      "Epoch 9/70\n",
      "42000/42000 [==============================] - 8s 194us/step - loss: 0.0027 - acc: 0.9991\n",
      "Epoch 10/70\n",
      "42000/42000 [==============================] - 8s 195us/step - loss: 0.0019 - acc: 0.9994\n",
      "Epoch 11/70\n",
      "42000/42000 [==============================] - 8s 194us/step - loss: 0.0021 - acc: 0.9993\n",
      "Epoch 12/70\n",
      "42000/42000 [==============================] - 8s 196us/step - loss: 0.0020 - acc: 0.9993\n",
      "Epoch 13/70\n",
      "42000/42000 [==============================] - 8s 197us/step - loss: 0.0015 - acc: 0.9995\n",
      "Epoch 14/70\n",
      "42000/42000 [==============================] - 8s 198us/step - loss: 0.0015 - acc: 0.9995\n",
      "Epoch 15/70\n",
      "42000/42000 [==============================] - 8s 200us/step - loss: 0.0016 - acc: 0.9994\n",
      "Epoch 16/70\n",
      "42000/42000 [==============================] - 8s 202us/step - loss: 0.0017 - acc: 0.9995\n",
      "Epoch 17/70\n",
      "42000/42000 [==============================] - 9s 203us/step - loss: 0.0012 - acc: 0.9996\n",
      "Epoch 18/70\n",
      "42000/42000 [==============================] - 15s 358us/step - loss: 0.0014 - acc: 0.9996\n",
      "Epoch 19/70\n",
      "42000/42000 [==============================] - 16s 371us/step - loss: 0.0012 - acc: 0.9996\n",
      "Epoch 20/70\n",
      "42000/42000 [==============================] - 15s 368us/step - loss: 0.0011 - acc: 0.9997TA: 4s - loss: 9.7002e-04 -  - ETA: 3s - loss - ETA:\n",
      "Epoch 21/70\n",
      "42000/42000 [==============================] - 15s 369us/step - loss: 0.0011 - acc: 0.99972s - loss: 0.0011 - acc: 0.9 - ETA: 1s -\n",
      "Epoch 22/70\n",
      "42000/42000 [==============================] - 16s 369us/step - loss: 7.6619e-04 - acc: 0.99980s - loss: 7.5367e-04 -\n",
      "Epoch 23/70\n",
      "42000/42000 [==============================] - 16s 370us/step - loss: 9.5227e-04 - acc: 0.9997\n",
      "Epoch 24/70\n",
      "42000/42000 [==============================] - 15s 368us/step - loss: 0.0013 - acc: 0.9996\n",
      "Epoch 25/70\n",
      "42000/42000 [==============================] - 15s 369us/step - loss: 8.6700e-04 - acc: 0.99972s - loss: 8.0833e - ETA: 1s - loss: 8.6533e-\n",
      "Epoch 26/70\n",
      "42000/42000 [==============================] - 15s 369us/step - loss: 9.5983e-04 - acc: 0.9997\n",
      "Epoch 27/70\n",
      "42000/42000 [==============================] - 16s 369us/step - loss: 5.5756e-04 - acc: 0.99985 - ETA: 0s - loss: 5.6970e-04 - acc: \n",
      "Epoch 28/70\n",
      "42000/42000 [==============================] - 16s 369us/step - loss: 6.4417e-04 - acc: 0.9998\n",
      "Epoch 29/70\n",
      "42000/42000 [==============================] - 15s 369us/step - loss: 5.2256e-04 - acc: 0.9998\n",
      "Epoch 30/70\n",
      "42000/42000 [==============================] - 16s 370us/step - loss: 0.0015 - acc: 0.9996: 1s - loss: 0.001 - ETA: 0s - loss: 0.0015 - acc: 0.99\n",
      "Epoch 31/70\n",
      "42000/42000 [==============================] - 16s 369us/step - loss: 5.8851e-04 - acc: 0.99980s - loss: 6.0126e-0\n",
      "Epoch 32/70\n",
      "42000/42000 [==============================] - 16s 375us/step - loss: 0.0011 - acc: 0.9997\n",
      "Epoch 33/70\n",
      "42000/42000 [==============================] - 16s 372us/step - loss: 3.7349e-04 - acc: 0.9999\n",
      "Epoch 34/70\n",
      "42000/42000 [==============================] - 16s 371us/step - loss: 6.8329e-05 - acc: 1.00002s\n",
      "Epoch 35/70\n",
      "42000/42000 [==============================] - 9s 221us/step - loss: 0.0018 - acc: 0.9995\n",
      "Epoch 36/70\n",
      "42000/42000 [==============================] - 9s 210us/step - loss: 2.3107e-04 - acc: 0.9999 2s - loss: 2 - ETA: 0s - loss: 2.4917e-04 \n",
      "Epoch 37/70\n",
      "42000/42000 [==============================] - 9s 211us/step - loss: 1.4672e-05 - acc: 1.0000\n",
      "Epoch 38/70\n",
      "42000/42000 [==============================] - 9s 211us/step - loss: 2.9908e-06 - acc: 1.0000 0s - loss: 3.0138e-06 - a\n",
      "Epoch 39/70\n",
      "42000/42000 [==============================] - 9s 210us/step - loss: 2.1386e-06 - acc: 1.0000\n",
      "Epoch 40/70\n",
      "42000/42000 [==============================] - 9s 210us/step - loss: 1.6057e-06 - acc: 1.0000\n",
      "Epoch 41/70\n",
      "42000/42000 [==============================] - 9s 210us/step - loss: 1.2325e-06 - acc: 1.0000\n",
      "Epoch 42/70\n",
      "42000/42000 [==============================] - 9s 210us/step - loss: 9.3871e-07 - acc: 1.0000\n",
      "Epoch 43/70\n",
      "42000/42000 [==============================] - 9s 210us/step - loss: 6.8704e-07 - acc: 1.0000\n",
      "Epoch 44/70\n",
      "42000/42000 [==============================] - 9s 210us/step - loss: 4.7353e-07 - acc: 1.0000\n",
      "Epoch 45/70\n",
      "42000/42000 [==============================] - 15s 358us/step - loss: 3.3283e-07 - acc: 1.0000\n",
      "Epoch 46/70\n",
      "42000/42000 [==============================] - 16s 369us/step - loss: 2.5886e-07 - acc: 1.00000s - loss: 2.6174e-07 - a\n",
      "Epoch 47/70\n",
      "42000/42000 [==============================] - 11s 258us/step - loss: 2.1204e-07 - acc: 1.0000\n",
      "Epoch 48/70\n",
      "42000/42000 [==============================] - 9s 209us/step - loss: 1.8357e-07 - acc: 1.0000\n",
      "Epoch 49/70\n",
      "42000/42000 [==============================] - 9s 208us/step - loss: 1.6504e-07 - acc: 1.0000\n",
      "Epoch 50/70\n",
      "42000/42000 [==============================] - 9s 206us/step - loss: 1.5218e-07 - acc: 1.0000 0s - loss: 1.5159e-07 - acc: 1.\n",
      "Epoch 51/70\n",
      "42000/42000 [==============================] - 9s 206us/step - loss: 1.4240e-07 - acc: 1.0000\n",
      "Epoch 52/70\n",
      "42000/42000 [==============================] - 9s 208us/step - loss: 1.3574e-07 - acc: 1.0000\n",
      "Epoch 53/70\n",
      "42000/42000 [==============================] - 9s 206us/step - loss: 1.2977e-07 - acc: 1.0000 0s - loss: 1.2916e-07 \n",
      "Epoch 54/70\n",
      "42000/42000 [==============================] - 9s 210us/step - loss: 1.2522e-07 - acc: 1.0000\n",
      "Epoch 55/70\n",
      "42000/42000 [==============================] - 9s 210us/step - loss: 1.2155e-07 - acc: 1.0000\n",
      "Epoch 56/70\n",
      "42000/42000 [==============================] - 9s 211us/step - loss: 1.1860e-07 - acc: 1.0000\n",
      "Epoch 57/70\n",
      "42000/42000 [==============================] - 9s 210us/step - loss: 1.1608e-07 - acc: 1.0000 6s - loss: 1.1542e - ETA: 2s - loss: 1.1613e-0 - ETA: 1s - los\n",
      "Epoch 58/70\n",
      "42000/42000 [==============================] - 9s 211us/step - loss: 1.1391e-07 - acc: 1.0000 1s - loss: 1.\n",
      "Epoch 59/70\n",
      "42000/42000 [==============================] - 9s 210us/step - loss: 1.1216e-07 - acc: 1.0000\n",
      "Epoch 60/70\n",
      "42000/42000 [==============================] - 9s 209us/step - loss: 1.1060e-07 - acc: 1.0000\n",
      "Epoch 61/70\n",
      "42000/42000 [==============================] - 9s 210us/step - loss: 1.0935e-07 - acc: 1.0000\n",
      "Epoch 62/70\n",
      "42000/42000 [==============================] - 9s 210us/step - loss: 1.0825e-07 - acc: 1.0000\n",
      "Epoch 63/70\n",
      "42000/42000 [==============================] - 9s 209us/step - loss: 1.0734e-07 - acc: 1.0000\n",
      "Epoch 64/70\n",
      "42000/42000 [==============================] - 9s 209us/step - loss: 1.0652e-07 - acc: 1.0000\n",
      "Epoch 65/70\n",
      "42000/42000 [==============================] - 9s 209us/step - loss: 1.0585e-07 - acc: 1.0000\n",
      "Epoch 66/70\n",
      "42000/42000 [==============================] - 9s 210us/step - loss: 1.0527e-07 - acc: 1.0000\n",
      "Epoch 67/70\n",
      "42000/42000 [==============================] - 9s 209us/step - loss: 1.0478e-07 - acc: 1.0000\n",
      "Epoch 68/70\n",
      "42000/42000 [==============================] - 9s 209us/step - loss: 1.0434e-07 - acc: 1.0000 0s - loss: 1.0423e-0\n",
      "Epoch 69/70\n",
      "42000/42000 [==============================] - 9s 209us/step - loss: 1.0400e-07 - acc: 1.0000\n",
      "Epoch 70/70\n",
      "42000/42000 [==============================] - 9s 209us/step - loss: 1.0368e-07 - acc: 1.0000\n"
     ]
    },
    {
     "data": {
      "text/plain": [
       "<keras.callbacks.History at 0x14d185cbe80>"
      ]
     },
     "execution_count": 278,
     "metadata": {},
     "output_type": "execute_result"
    }
   ],
   "source": [
    "cnn.fit(X_train,y_train,epochs=50,batch_size=100)"
   ]
  },
  {
   "cell_type": "code",
   "execution_count": 281,
   "metadata": {},
   "outputs": [
    {
     "name": "stdout",
     "output_type": "stream",
     "text": [
      "8400/8400 [==============================] - 1s 110us/step\n"
     ]
    },
    {
     "data": {
      "text/plain": [
       "[1.0301624670765769e-07, 1.0]"
      ]
     },
     "execution_count": 281,
     "metadata": {},
     "output_type": "execute_result"
    }
   ],
   "source": [
    "#Evaluating on the dev set\n",
    "cnn.evaluate(xdev,ydev,batch_size=100)"
   ]
  },
  {
   "cell_type": "code",
   "execution_count": 279,
   "metadata": {},
   "outputs": [],
   "source": [
    "#Now we predict using the test dataset and then take the max values out of the each 10 number prediction probabilities \n",
    "y_pred=cnn.predict(X_test,batch_size=50)\n",
    "y_classes = [np.argmax(y, axis=None, out=None) for y in y_pred]"
   ]
  },
  {
   "cell_type": "code",
   "execution_count": 280,
   "metadata": {
    "scrolled": true
   },
   "outputs": [],
   "source": [
    "#This block converts the predictions into a desired dataframe format and saves it as a CSV file\n",
    "df=pd.DataFrame(y_classes)\n",
    "df.rename(columns={0:'Label'},inplace=True)\n",
    "df=df.reset_index()\n",
    "df['index']=df['index']+1\n",
    "df.rename(columns={'index':'ImageId'},inplace=True)\n",
    "df=df.set_index('ImageId')\n",
    "df.to_csv('CNN.csv')"
   ]
  }
 ],
 "metadata": {
  "kernelspec": {
   "display_name": "Python 3",
   "language": "python",
   "name": "python3"
  },
  "language_info": {
   "codemirror_mode": {
    "name": "ipython",
    "version": 3
   },
   "file_extension": ".py",
   "mimetype": "text/x-python",
   "name": "python",
   "nbconvert_exporter": "python",
   "pygments_lexer": "ipython3",
   "version": "3.6.5"
  }
 },
 "nbformat": 4,
 "nbformat_minor": 2
}
